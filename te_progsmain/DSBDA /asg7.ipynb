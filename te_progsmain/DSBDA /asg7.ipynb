{
  "nbformat": 4,
  "nbformat_minor": 0,
  "metadata": {
    "colab": {
      "provenance": [],
      "authorship_tag": "ABX9TyPPLUaozHZO8/SvL6phqRxU",
      "include_colab_link": true
    },
    "kernelspec": {
      "name": "python3",
      "display_name": "Python 3"
    },
    "language_info": {
      "name": "python"
    }
  },
  "cells": [
    {
      "cell_type": "markdown",
      "metadata": {
        "id": "view-in-github",
        "colab_type": "text"
      },
      "source": [
        "<a href=\"https://colab.research.google.com/github/chum-kale/eng/blob/master/te_progsmain/DSBDA%20/asg7.ipynb\" target=\"_parent\"><img src=\"https://colab.research.google.com/assets/colab-badge.svg\" alt=\"Open In Colab\"/></a>"
      ]
    },
    {
      "cell_type": "code",
      "execution_count": null,
      "metadata": {
        "colab": {
          "base_uri": "https://localhost:8080/"
        },
        "id": "2K7tEbTSOkec",
        "outputId": "14d1147d-a074-4628-9561-724875860c5f"
      },
      "outputs": [
        {
          "output_type": "stream",
          "name": "stderr",
          "text": [
            "[nltk_data] Downloading package punkt to /root/nltk_data...\n",
            "[nltk_data]   Unzipping tokenizers/punkt.zip.\n",
            "[nltk_data] Downloading package stopwords to /root/nltk_data...\n",
            "[nltk_data]   Unzipping corpora/stopwords.zip.\n",
            "[nltk_data] Downloading package wordnet to /root/nltk_data...\n",
            "[nltk_data] Downloading package averaged_perceptron_tagger to\n",
            "[nltk_data]     /root/nltk_data...\n",
            "[nltk_data]   Unzipping taggers/averaged_perceptron_tagger.zip.\n"
          ]
        },
        {
          "output_type": "execute_result",
          "data": {
            "text/plain": [
              "True"
            ]
          },
          "metadata": {},
          "execution_count": 3
        }
      ],
      "source": [
        "import nltk\n",
        "nltk.download(\"punkt\")\n",
        "nltk.download(\"stopwords\")\n",
        "nltk.download(\"wordnet\")\n",
        "nltk.download(\"averaged_perceptron_tagger\")"
      ]
    },
    {
      "cell_type": "code",
      "source": [],
      "metadata": {
        "id": "RpF9wc6XP8Jm"
      },
      "execution_count": null,
      "outputs": []
    },
    {
      "cell_type": "markdown",
      "source": [
        "Tokenization"
      ],
      "metadata": {
        "id": "F9HejfY0RP-x"
      }
    },
    {
      "cell_type": "code",
      "source": [
        "from nltk import sent_tokenize , word_tokenize"
      ],
      "metadata": {
        "id": "eM30EvaZRTXP"
      },
      "execution_count": null,
      "outputs": []
    },
    {
      "cell_type": "code",
      "source": [
        "sentence = \"Why waste money when you can spend it. Sejal joined the meet.\""
      ],
      "metadata": {
        "id": "MQHWvOxSR0Y2"
      },
      "execution_count": null,
      "outputs": []
    },
    {
      "cell_type": "code",
      "source": [
        "print (sent_tokenize(sentence))\n",
        "print (word_tokenize(sentence))"
      ],
      "metadata": {
        "colab": {
          "base_uri": "https://localhost:8080/"
        },
        "id": "GT0_12LaR_Mt",
        "outputId": "80102d2c-d57a-4c61-d4d3-c165c3905d4e"
      },
      "execution_count": null,
      "outputs": [
        {
          "output_type": "stream",
          "name": "stdout",
          "text": [
            "['Why waste money when you can spend it.', 'Sejal joined the meet.']\n",
            "['Why', 'waste', 'money', 'when', 'you', 'can', 'spend', 'it', '.', 'Sejal', 'joined', 'the', 'meet', '.']\n"
          ]
        }
      ]
    },
    {
      "cell_type": "markdown",
      "source": [
        "POS Tagging"
      ],
      "metadata": {
        "id": "LixH3he4Syau"
      }
    },
    {
      "cell_type": "code",
      "source": [
        "from nltk import pos_tag"
      ],
      "metadata": {
        "id": "pUuKsJqtSMGA"
      },
      "execution_count": null,
      "outputs": []
    },
    {
      "cell_type": "code",
      "source": [
        "tokens = print (word_tokenize(sentence))\n"
      ],
      "metadata": {
        "colab": {
          "base_uri": "https://localhost:8080/"
        },
        "id": "KfLJXYSaS0mW",
        "outputId": "fd13b54d-0652-4c46-8bdd-a50a00cf749a"
      },
      "execution_count": null,
      "outputs": [
        {
          "output_type": "stream",
          "name": "stdout",
          "text": [
            "['Why', 'waste', 'money', 'when', 'you', 'can', 'spend', 'it', '.', 'Sejal', 'joined', 'the', 'meet', '.']\n"
          ]
        }
      ]
    },
    {
      "cell_type": "code",
      "source": [
        "tokens = word_tokenize(sentence)\n",
        "print(pos_tag(tokens))"
      ],
      "metadata": {
        "colab": {
          "base_uri": "https://localhost:8080/"
        },
        "id": "alJ_TCk3Vf9A",
        "outputId": "ae995009-a70d-4566-c04a-86606b73e45e"
      },
      "execution_count": null,
      "outputs": [
        {
          "output_type": "stream",
          "name": "stdout",
          "text": [
            "[('Why', 'WRB'), ('waste', 'NN'), ('money', 'NN'), ('when', 'WRB'), ('you', 'PRP'), ('can', 'MD'), ('spend', 'VB'), ('it', 'PRP'), ('.', '.'), ('Sejal', 'NNP'), ('joined', 'VBD'), ('the', 'DT'), ('meet', 'NN'), ('.', '.')]\n"
          ]
        }
      ]
    },
    {
      "cell_type": "markdown",
      "source": [
        "Stop Word Removal"
      ],
      "metadata": {
        "id": "hOJZAEqNVshX"
      }
    },
    {
      "cell_type": "code",
      "source": [
        "from nltk.corpus import stopwords"
      ],
      "metadata": {
        "id": "OKMZBQnZVuyW"
      },
      "execution_count": null,
      "outputs": []
    },
    {
      "cell_type": "code",
      "source": [
        "stop_words = set(stopwords.words(\"english\"))"
      ],
      "metadata": {
        "id": "Eylivlz_WCTU"
      },
      "execution_count": null,
      "outputs": []
    },
    {
      "cell_type": "code",
      "source": [
        "tokens = word_tokenize(sentence)\n",
        "cleaned_tokens = []\n",
        "for token in tokens:\n",
        "  if (token not in stop_words):\n",
        "    cleaned_tokens.append(token)\n",
        "print(cleaned_tokens)\n",
        "     "
      ],
      "metadata": {
        "colab": {
          "base_uri": "https://localhost:8080/"
        },
        "id": "RwCzZbWcWMkt",
        "outputId": "c6d5b18e-9286-4ad3-f1cb-7464a8a4f88e"
      },
      "execution_count": null,
      "outputs": [
        {
          "output_type": "stream",
          "name": "stdout",
          "text": [
            "['Why', 'waste', 'money', 'spend', '.', 'Sejal', 'joined', 'meet', '.']\n"
          ]
        }
      ]
    },
    {
      "cell_type": "markdown",
      "source": [
        "Stemming"
      ],
      "metadata": {
        "id": "izUIl4IrWS0u"
      }
    },
    {
      "cell_type": "code",
      "source": [
        "\n",
        "from nltk.stem import PorterStemmer\n",
        "     \n",
        "\n",
        "stemmer = PorterStemmer()\n"
      ],
      "metadata": {
        "id": "jj5SL31jWbi9"
      },
      "execution_count": null,
      "outputs": []
    },
    {
      "cell_type": "code",
      "source": [
        "stemmed_toks = []\n",
        "tokens = word_tokenize(sentence)\n",
        "for token in tokens:\n",
        "  stemmed = stemmer.stem(token)\n",
        "  stemmed_toks.append(stemmed)\n",
        "print(stemmed_toks)\n"
      ],
      "metadata": {
        "colab": {
          "base_uri": "https://localhost:8080/"
        },
        "id": "rvdsg4lGXBqz",
        "outputId": "ffd415b0-53ac-4134-ae14-ed616543a3c6"
      },
      "execution_count": null,
      "outputs": [
        {
          "output_type": "stream",
          "name": "stdout",
          "text": [
            "['whi', 'wast', 'money', 'when', 'you', 'can', 'spend', 'it', '.', 'sejal', 'join', 'the', 'meet', '.']\n"
          ]
        }
      ]
    },
    {
      "cell_type": "code",
      "source": [],
      "metadata": {
        "id": "o34bnQ2nXwgC"
      },
      "execution_count": null,
      "outputs": []
    },
    {
      "cell_type": "markdown",
      "source": [
        "Lemmatization"
      ],
      "metadata": {
        "id": "YHPQn2LUX07c"
      }
    },
    {
      "cell_type": "code",
      "source": [
        "from nltk.stem import WordNetLemmatizer"
      ],
      "metadata": {
        "id": "njfpwmz1X2OM"
      },
      "execution_count": null,
      "outputs": []
    },
    {
      "cell_type": "code",
      "source": [
        "lemmatizer = WordNetLemmatizer()\n",
        "     "
      ],
      "metadata": {
        "id": "fjGNDJPWX3Go"
      },
      "execution_count": null,
      "outputs": []
    },
    {
      "cell_type": "code",
      "source": [
        "lemmed_toks = []\n",
        "tokens = word_tokenize(sentence)\n",
        "for token in tokens:\n",
        "  lems = lemmatizer.lemmatize(token)\n",
        "  lemmed_toks.append(lems)\n",
        "print(lemmed_toks)"
      ],
      "metadata": {
        "colab": {
          "base_uri": "https://localhost:8080/"
        },
        "id": "MHx5dV9JX5Wl",
        "outputId": "97a7275e-8068-4ef5-fd0c-c93091763558"
      },
      "execution_count": null,
      "outputs": [
        {
          "output_type": "stream",
          "name": "stdout",
          "text": [
            "['Why', 'waste', 'money', 'when', 'you', 'can', 'spend', 'it', '.', 'Sejal', 'joined', 'the', 'meet', '.']\n"
          ]
        }
      ]
    },
    {
      "cell_type": "markdown",
      "source": [
        "TF-IDF"
      ],
      "metadata": {
        "id": "4uZfyPxgYKZt"
      }
    },
    {
      "cell_type": "code",
      "source": [
        "from sklearn.feature_extraction.text import TfidfVectorizer"
      ],
      "metadata": {
        "id": "aEE8pMD0YLwt"
      },
      "execution_count": null,
      "outputs": []
    },
    {
      "cell_type": "code",
      "source": [
        "vectorizer = TfidfVectorizer()\n",
        "     "
      ],
      "metadata": {
        "id": "idvTWuCEYPMI"
      },
      "execution_count": null,
      "outputs": []
    },
    {
      "cell_type": "code",
      "source": [
        "sentence = [\n",
        "    \"Never waste money.\",\n",
        "    \"Always spend money\",\n",
        "    \"Remember to spend it wisely.\"\n",
        "]"
      ],
      "metadata": {
        "id": "XSh3K-FIYZnF"
      },
      "execution_count": null,
      "outputs": []
    },
    {
      "cell_type": "code",
      "source": [
        "matrix = vectorizer.fit(sentence)\n",
        "matrix.vocabulary_"
      ],
      "metadata": {
        "colab": {
          "base_uri": "https://localhost:8080/"
        },
        "id": "6g-YAQ1rYeH8",
        "outputId": "55429d82-879e-460f-8977-15f5725bacad"
      },
      "execution_count": null,
      "outputs": [
        {
          "output_type": "execute_result",
          "data": {
            "text/plain": [
              "{'never': 3,\n",
              " 'waste': 7,\n",
              " 'money': 2,\n",
              " 'always': 0,\n",
              " 'spend': 5,\n",
              " 'remember': 4,\n",
              " 'to': 6,\n",
              " 'it': 1,\n",
              " 'wisely': 8}"
            ]
          },
          "metadata": {},
          "execution_count": 27
        }
      ]
    },
    {
      "cell_type": "code",
      "source": [
        "tfidf_matrix = vectorizer.transform(sentence)\n",
        "print(tfidf_matrix)"
      ],
      "metadata": {
        "colab": {
          "base_uri": "https://localhost:8080/"
        },
        "id": "XFI65mHXY-DS",
        "outputId": "630009ff-525a-40f2-e9f3-91d3e66df688"
      },
      "execution_count": null,
      "outputs": [
        {
          "output_type": "stream",
          "name": "stdout",
          "text": [
            "  (0, 7)\t0.6227660078332259\n",
            "  (0, 3)\t0.6227660078332259\n",
            "  (0, 2)\t0.4736296010332684\n",
            "  (1, 5)\t0.5178561161676974\n",
            "  (1, 2)\t0.5178561161676974\n",
            "  (1, 0)\t0.680918560398684\n",
            "  (2, 8)\t0.4673509818107163\n",
            "  (2, 6)\t0.4673509818107163\n",
            "  (2, 5)\t0.35543246785041743\n",
            "  (2, 4)\t0.4673509818107163\n",
            "  (2, 1)\t0.4673509818107163\n"
          ]
        }
      ]
    },
    {
      "cell_type": "code",
      "source": [
        "print(vectorizer.get_feature_names_out())"
      ],
      "metadata": {
        "colab": {
          "base_uri": "https://localhost:8080/"
        },
        "id": "n7YtGhduZEHx",
        "outputId": "392e38f6-8dfb-42e2-b6be-ff70b1b07c3a"
      },
      "execution_count": null,
      "outputs": [
        {
          "output_type": "stream",
          "name": "stdout",
          "text": [
            "['always' 'it' 'money' 'never' 'remember' 'spend' 'to' 'waste' 'wisely']\n"
          ]
        }
      ]
    }
  ]
}